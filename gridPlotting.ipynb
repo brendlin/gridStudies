{
 "cells": [
  {
   "cell_type": "code",
   "execution_count": null,
   "metadata": {},
   "outputs": [],
   "source": [
    "import matplotlib.pyplot as plt\n",
    "import cartopy.crs as ccrs\n",
    "import cartopy.io.shapereader as shpreader\n",
    "import pandas as pd"
   ]
  },
  {
   "cell_type": "markdown",
   "metadata": {},
   "source": [
    "Open Power System Data - A First Look\n",
    "---------"
   ]
  },
  {
   "cell_type": "code",
   "execution_count": null,
   "metadata": {},
   "outputs": [],
   "source": [
    "filepath = '/Users/atlaslap44/Documents/dataAnalysis/datasets/opsd-time_series-2019-06-05/time_series_60min_singleindex.csv'\n",
    "ts_data = pd.read_csv(filepath)"
   ]
  },
  {
   "cell_type": "code",
   "execution_count": null,
   "metadata": {},
   "outputs": [],
   "source": [
    "ts_data[ts_data['DE_tennet_solar_generation_forecast'] > 0][['utc_timestamp','DE_tennet_solar_generation_forecast']][:100]"
   ]
  },
  {
   "cell_type": "code",
   "execution_count": null,
   "metadata": {},
   "outputs": [],
   "source": [
    "#ts_data"
   ]
  },
  {
   "cell_type": "code",
   "execution_count": null,
   "metadata": {},
   "outputs": [],
   "source": [
    "fig, ax1 = plt.subplots(figsize=(15, 5))\n",
    "\n",
    "# Solar forcing\n",
    "color = 'gray'\n",
    "tmp = ts_data[ts_data['DE_tennet_solar_generation_forecast'] > 0][['utc_timestamp','DE_tennet_solar_generation_forecast']][:200]\n",
    "p1 = ax1.plot(tmp['utc_timestamp'],tmp['DE_tennet_solar_generation_forecast'],label='forecast',color=color)\n",
    "ax1.set_xlabel('time (year)')\n",
    "ax1.set_ylabel('Solar irradiance [Wm$^{-2}$]',color=color)\n",
    "#ax1.tick_params(axis='y', labelcolor=color)\n",
    "#ax1.set_xlim(-10,1010)\n",
    "#ax1.set_ylim(1364,1366.5)\n",
    "plt.show()"
   ]
  },
  {
   "cell_type": "markdown",
   "metadata": {},
   "source": [
    "German Geographical Plots\n",
    "-------------"
   ]
  },
  {
   "cell_type": "code",
   "execution_count": null,
   "metadata": {},
   "outputs": [],
   "source": [
    "# Downloaded from https://gadm.org/download_country_v3.html\n",
    "fname = '/Users/atlaslap44/Documents/dataAnalysis/datasets/gadm36_DEU_shp/gadm36_DEU_1.shp'\n",
    "\n",
    "# Levels are 0, 1, 2, 3, 4\n",
    "shapes = list(shpreader.Reader(fname).geometries())\n",
    "\n",
    "projection = ccrs.PlateCarree()\n",
    "#projection = ccrs.AlbersEqualArea(0,10)\n",
    "#projection = ccrs.Mercator()\n",
    "\n",
    "fig = plt.figure(figsize=(8, 10))\n",
    "ax = fig.add_subplot(1, 1, 1, projection=projection)\n",
    "#ax = plt.axes(projection=projection)\n",
    "ax.set_aspect('auto')\n",
    "\n",
    "plt.title('Deutschland')\n",
    "ax.coastlines(resolution='10m')\n",
    "\n",
    "ax.add_geometries(shapes, projection,\n",
    "                  edgecolor='black', facecolor='gray', alpha=0.5)\n",
    "\n",
    "gl = ax.gridlines(crs=projection, draw_labels=True,\n",
    "                  linewidth=1, color='gray', alpha=0.5, linestyle='-')\n",
    "\n",
    "# Make sure the aspect ratio of \"figsize\" of the plot figure\n",
    "# roughly matches that of the \n",
    "ax.set_extent([4, 16, 46.5, 56.5], projection)\n",
    "\n",
    "plt.show()"
   ]
  },
  {
   "cell_type": "markdown",
   "metadata": {},
   "source": [
    "Hamburg Geography\n",
    "----------"
   ]
  },
  {
   "cell_type": "code",
   "execution_count": null,
   "metadata": {},
   "outputs": [],
   "source": [
    "# Downloaded from https://gadm.org/download_country_v3.html\n",
    "fname = '/Users/atlaslap44/Documents/dataAnalysis/datasets/gadm36_DEU_shp/gadm36_DEU_3.shp'\n",
    "\n",
    "# Levels are 0, 1, 2, 3, 4\n",
    "shapes = list(shpreader.Reader(fname).geometries())\n",
    "\n",
    "projection = ccrs.PlateCarree()\n",
    "\n",
    "fig = plt.figure(figsize=(8, 10))\n",
    "ax = fig.add_subplot(1, 1, 1, projection=projection)\n",
    "ax.set_aspect('auto')\n",
    "\n",
    "plt.title('Hamburg')\n",
    "ax.add_geometries(shapes, projection,\n",
    "                  edgecolor='gray', facecolor='lightgray', alpha=0.5)\n",
    "\n",
    "gl = ax.gridlines(crs=projection, draw_labels=True,\n",
    "                  linewidth=1, color='gray', alpha=0.5, linestyle='-')\n",
    "\n",
    "ax.set_extent([9.6, 10.4, 53.0, 54.0], projection)\n",
    "\n",
    "plt.show()"
   ]
  }
 ],
 "metadata": {
  "kernelspec": {
   "display_name": "Python 3",
   "language": "python",
   "name": "python3"
  },
  "language_info": {
   "codemirror_mode": {
    "name": "ipython",
    "version": 3
   },
   "file_extension": ".py",
   "mimetype": "text/x-python",
   "name": "python",
   "nbconvert_exporter": "python",
   "pygments_lexer": "ipython3",
   "version": "3.8.2"
  }
 },
 "nbformat": 4,
 "nbformat_minor": 4
}
