{
 "cells": [
  {
   "cell_type": "markdown",
   "metadata": {},
   "source": [
    "Learn 2 Run a Power Network\n",
    "======\n",
    "A Reinforcement Learning Challenge\n",
    "-------"
   ]
  },
  {
   "cell_type": "code",
   "execution_count": null,
   "metadata": {},
   "outputs": [],
   "source": [
    "%load_ext autoreload\n",
    "import os\n",
    "import sys\n",
    "import grid2op\n",
    "import matplotlib.pyplot as plt\n",
    "\n",
    "# This is a small histogramming class -- see https://github.com/brendlin/matplotlibHistos\n",
    "sys.path.insert(0, \"../\")\n",
    "from matplotlibHistos.Histo import Histo"
   ]
  },
  {
   "cell_type": "markdown",
   "metadata": {},
   "source": [
    "Let's get to know the system using the `rte_case14_realistic` environment:"
   ]
  },
  {
   "cell_type": "code",
   "execution_count": null,
   "metadata": {},
   "outputs": [],
   "source": [
    "env = grid2op.make(test=True)"
   ]
  },
  {
   "cell_type": "code",
   "execution_count": null,
   "metadata": {},
   "outputs": [],
   "source": [
    "from grid2op.PlotGrid import PlotMatplot\n",
    "plot_helper = PlotMatplot(env.observation_space)\n",
    "_ = plot_helper.plot_info(line_values=[el for el in range(env.n_line)])"
   ]
  },
  {
   "cell_type": "markdown",
   "metadata": {},
   "source": [
    "How is the grid topology represented in the code?\n",
    "------"
   ]
  },
  {
   "cell_type": "code",
   "execution_count": null,
   "metadata": {},
   "outputs": [],
   "source": [
    "print('dim topo: env.dim_topo (2*n_line + n_load + n_gen): {:d} ({:d})'.format(env.dim_topo,env.n_line*2 + env.n_load + env.n_gen))\n",
    "print('Number of lines, env.n_line:',env.n_line)\n",
    "print('Number of loads, env.n_load:',env.n_load)\n",
    "print('Number of loads, env.n_gen:',env.n_gen)\n",
    "print('Number of connections to each sub env.sub_info: ',env.sub_info)"
   ]
  },
  {
   "cell_type": "code",
   "execution_count": null,
   "metadata": {
    "scrolled": true
   },
   "outputs": [],
   "source": [
    "print('Line origin    to subid env.line_or_to_subid:',env.line_or_to_subid)\n",
    "print('Line extremity to subid env.line_ex_to_subid:',env.line_ex_to_subid)\n",
    "print('Generator      to subid env.gen_to_subid    :',env.gen_to_subid)\n",
    "print('Load           to subid env.load_to_subid   :',env.load_to_subid)\n",
    "print()\n",
    "print('Load-to-sub           position env.load_to_sub_pos   : ',env.load_to_sub_pos)\n",
    "print('Generator-to-sub      position env.gen_to_sub_pos    : ',env.gen_to_sub_pos)\n",
    "print('Line origin-to-sub    position env.line_or_to_sub_pos: ',env.line_or_to_sub_pos)\n",
    "print('Line extremity-to-sub position env.line_ex_to_sub_pos: ',env.line_ex_to_sub_pos)\n",
    "\n",
    "print('Topo vec (len {:d}): '.format(len(env.backend.get_topo_vect())),list(a for a in env.backend.get_topo_vect()))\n",
    "#env.load_pos_topo_vect\n",
    "#env.topo_vect\n",
    "print()\n",
    "print('env.grid_objects_types:\\n',env.grid_objects_types[:10])\n",
    "print('This will tell you the ID of the object connected to which bus. The order is [sub,load,gen,origin,extremity].')"
   ]
  },
  {
   "cell_type": "markdown",
   "metadata": {},
   "source": [
    "Adjacency Matrix Representation of the Grid, and Connectivity checks (no buses):\n",
    "--------\n",
    "We will represent the grid using the buses and gens/loads as vertices, and the lines will be represented by an item a_{ij} of this matrix. See below:"
   ]
  },
  {
   "cell_type": "code",
   "execution_count": null,
   "metadata": {},
   "outputs": [],
   "source": [
    "import numpy as np\n",
    "\n",
    "# This helper module is mine:\n",
    "import TopologyHelpers"
   ]
  },
  {
   "cell_type": "code",
   "execution_count": null,
   "metadata": {
    "scrolled": false
   },
   "outputs": [],
   "source": [
    "adjacency_matrix = TopologyHelpers.MakeAdjacencyMatrix(env,n_buses=1,skipExternals=True)\n",
    "laplacian_matrix = TopologyHelpers.MakeLaplacian(env,n_buses=1,skipExternals=True)\n",
    "\n",
    "lineOnBits = 0b11111111111111011011\n",
    "adjacency_matrix_linesOff = TopologyHelpers.MakeAdjacencyMatrix(env,n_buses=1,skipExternals=True,lineOnBits=lineOnBits)\n",
    "laplacian_matrix_linesOff = TopologyHelpers.MakeLaplacian(env,n_buses=1,skipExternals=True,lineOnBits=lineOnBits)\n",
    "\n",
    "print('Adjacency matrix:')\n",
    "print(adjacency_matrix)\n",
    "#print(adjacency_matrix_linesOff)\n",
    "\n",
    "# Print the laplacian matrix:\n",
    "if True :\n",
    "    print('\\nLaplacian matrix:')\n",
    "    for i in laplacian_matrix :\n",
    "        tmp = ''\n",
    "        for j in i :\n",
    "            tmp += '{:>3}'.format(-j)\n",
    "        print(tmp)\n",
    "\n",
    "# Adjacency matrix:\n",
    "if False :\n",
    "    print('Adjacency matrix:')\n",
    "    for i in adjacency_matrix :        \n",
    "        print(' '.join(('%d'%(a) if a>=0 else '·') for a in list(i)))\n",
    "\n",
    "#PrintAdjacencyMatrix(adjacency_matrix,skipExternals=False,nullstr='·')\n",
    "print()\n",
    "TopologyHelpers.PrintLineIDs(env)\n",
    "\n",
    "print()\n",
    "print('Is connected? (Manual)   :',TopologyHelpers.IsConnectedManual(adjacency_matrix))\n",
    "print('Is connected? (Eigenvals):',TopologyHelpers.IsConnectedLaplacianEigenvalue(laplacian_matrix))\n",
    "print('Is connected? (Manual)   :',TopologyHelpers.IsConnectedManual(adjacency_matrix_linesOff))\n",
    "print('Is connected? (Eigenvals):',TopologyHelpers.IsConnectedLaplacianEigenvalue(laplacian_matrix_linesOff))"
   ]
  },
  {
   "cell_type": "markdown",
   "metadata": {},
   "source": [
    "Checking All Permutations of lines on/off\n",
    "-------\n",
    "It is clear that many permutations of off-lines are topologically excluded because they destroy the connectedness of the grid. But how many exactly? We can determine this brute-force, as well as some properties of the excluded bitsets.\n",
    "\n",
    "Notice below that we will represent the combination of on- and off-lines with a boolean, e.g. 0x11110 for a five-line topology with the first line disconnected.\n",
    "\n",
    "As you can see, out of the list of all possible topologies (about 1 million), fewer than 2% (20,000) of them result in a connected grid. Furthermore, we can identify 115 distinct topologies out of 1 million that are \"minimally disconnecting,\" e.g. they represent a unique way to disconnect the grid without any unnecessary additional disconnected lines. This can significantly reduce the amount of time required to check if a given topology results in a disconnected grid, because need only compare its bitset with only 115 other bitsets to determine whether it is disconnected.\n",
    "\n",
    "We can also calculate a \"sparsest cut\" metric related to spectral partitioning and spectral bisection. The \"ratio cut partition,\" e.g. $\\frac{N_\\text{lines}}{N_\\text{A}\\times N_\\text{B}}$ where $N_\\text{lines}$ is the number of disconnected lines, and $N_\\text{A}$ and $N_\\text{B}$ are the number of nodes in the disconnected regions. This metric shows topologies where the minimum number of cuts result in well-balanced sub-regions."
   ]
  },
  {
   "cell_type": "code",
   "execution_count": null,
   "metadata": {},
   "outputs": [],
   "source": [
    "%aimport CommonHelpers\n",
    "%aimport TopologyHelpers\n",
    "\n",
    "def FindConnectedAndUnconnectedBitsets(_env) :\n",
    "    # Return the number of connected, unconnected bitsets, and\n",
    "    # a list of the unique minimum-cut bitsets.\n",
    "\n",
    "    histo_connected = Histo.FixedWidthConstructor(21,-0.5,20.5)\n",
    "    histo_disconnected = Histo.FixedWidthConstructor(21,-0.5,20.5)\n",
    "    \n",
    "    n_connected = 0\n",
    "    n_unconnected = 0\n",
    "    minimum_cut_disconnected_bitsets = []\n",
    "    connected_bitsets = []\n",
    "\n",
    "    all_combinations = reversed(range(CommonHelpers.FullyConnectedBitset(_env.n_line) + 1))\n",
    "\n",
    "    for i,line_bitset in enumerate(all_combinations) :\n",
    "\n",
    "        this_nConnected = TopologyHelpers.nConnected(line_bitset,_env.n_line)\n",
    "        \n",
    "        # Check if another graph with fewer disconnections was already excluded, which\n",
    "        # automatically would exclude this graph\n",
    "        if TopologyHelpers.ExcludedByBitsetWithFewerDisconnections(line_bitset,minimum_cut_disconnected_bitsets) :\n",
    "            histo_disconnected.Fill(this_nConnected)\n",
    "            n_unconnected += 1\n",
    "            continue\n",
    "\n",
    "        adjacency_matrix = TopologyHelpers.MakeAdjacencyMatrix(_env,n_buses=1,\n",
    "                                                               skipExternals=True,\n",
    "                                                               lineOnBits=line_bitset)\n",
    "\n",
    "        isConnected = TopologyHelpers.IsConnectedManual(adjacency_matrix)\n",
    "        n_connected += isConnected\n",
    "        n_unconnected += (not isConnected)\n",
    "\n",
    "        if not isConnected :\n",
    "            histo_disconnected.Fill(this_nConnected)\n",
    "            TopologyHelpers.AddExcludedBitset(line_bitset,minimum_cut_disconnected_bitsets)\n",
    "        if isConnected :\n",
    "            histo_connected.Fill(this_nConnected)\n",
    "            connected_bitsets.append(line_bitset)\n",
    "\n",
    "    return n_connected,n_unconnected,minimum_cut_disconnected_bitsets,connected_bitsets,histo_connected,histo_disconnected"
   ]
  },
  {
   "cell_type": "code",
   "execution_count": null,
   "metadata": {},
   "outputs": [],
   "source": [
    "n_connected,n_unconnected,minimum_cut_bitsets,connected_bitsets,histo_connected,histo_disconnected = FindConnectedAndUnconnectedBitsets(env)\n",
    "#%timeit TopologyHelpers.FindConnectedAndUnconnectedBitsets()\n",
    "fraction = n_connected/float(n_connected + n_unconnected)\n",
    "print('Connected: {} Unconnected: {} Fraction: {:0.2f}%.'.format(n_connected,n_unconnected,100*fraction))\n",
    "print('Excluded bitsets changed; new size is',len(minimum_cut_bitsets))\n",
    "\n",
    "minimum_cut_bitsets_properties = []\n",
    "\n",
    "for i in minimum_cut_bitsets :\n",
    "    adjacency_matrix = TopologyHelpers.MakeAdjacencyMatrix(env,n_buses=1,skipExternals=True,lineOnBits=i)\n",
    "    disjoint_sets = TopologyHelpers.GetDisjointSets(adjacency_matrix)\n",
    "    minimum_cut_bitsets_properties.append(dict())\n",
    "    set_sizes = list(len(disjoint_sets[a]) for a in disjoint_sets.keys())\n",
    "    minimum_cut_bitsets_properties[-1]['bits'] = i\n",
    "    minimum_cut_bitsets_properties[-1]['set_sizes'] = set_sizes\n",
    "    minimum_cut_bitsets_properties[-1]['sparsest_cut_metric'] = TopologyHelpers.nDisconnected(i,20)/(set_sizes[0]*set_sizes[1])\n",
    "\n",
    "bitsets_sorted = sorted(minimum_cut_bitsets_properties, key = lambda i: i['sparsest_cut_metric'])\n",
    "\n",
    "ax = plt.subplot()\n",
    "ax.set_yscale(\"log\")\n",
    "\n",
    "histo_connected.Draw()\n",
    "histo_disconnected.Draw()\n",
    "plt.show()"
   ]
  },
  {
   "cell_type": "code",
   "execution_count": null,
   "metadata": {},
   "outputs": [],
   "source": [
    "print('{:<22} {:<10} {:<10} {:<8}'.format('Bitset','set sizes','nDisc. lns','sparsity'))\n",
    "for ii,i in enumerate(bitsets_sorted) :\n",
    "    if ii > 10 : break\n",
    "    fmt = '0b{:0{}b}   ({:2d},{:2d})  {:>10} {:8.2f}'\n",
    "    print(fmt.format(i['bits'],20,\n",
    "                     i['set_sizes'][0],i['set_sizes'][1],\n",
    "                     TopologyHelpers.nDisconnected(i['bits'],20),\n",
    "                     i['sparsest_cut_metric']))\n",
    "print('...')"
   ]
  },
  {
   "cell_type": "markdown",
   "metadata": {},
   "source": [
    "A bitwise representation for Bus configurations, and Imposing Bus Rules\n",
    "-------\n",
    "In this next segment, we have several goals:\n",
    " - We want to figure out how many bus configurations are possible, given some number of lines.\n",
    " - We need to define a way to label a bus configuration in a way that is unique.\n",
    "\n",
    "To facilitate this, we represent a bus configuration with a bitset, e.g. 0x1010 for lines 0 and 2 connected to \"bus 0\", and lines 1 and 3 connected to \"bus 1\". A bitwise representation is useful because we can use efficient bitwise operations to determine bus configuration validity.\n",
    "\n",
    "Then we can impose rules:\n",
    " - By convention, we require the last bit to be connected to bus 1. This avoids double-counting cases with \"0<-->1\" symmetry.\n",
    " - We consider illegal the case where a single line is connected to a bus.\n",
    " - When a line is disconnected, the number of possible bus configurations for an \"N-line bus\" should reduce to the number of possible configurations for an \"N-minus-one-line bus\". To avoid double-counting identical bitsets in these cases, valid bitsets must have the disconnected line(s) assigned to \"bus 1\". In reality, of course, they are not connected at all, but we explicitly want to \"invalidate\" the bitsets with the disconnected line(s) assigned to \"bus 0\" to make the counting work out.\n",
    " \n",
    "We implement these rules with functions in a module, whose results are shown below:"
   ]
  },
  {
   "cell_type": "code",
   "execution_count": null,
   "metadata": {},
   "outputs": [],
   "source": [
    "# This helper module is mine:\n",
    "import BusTopologyHelpers\n",
    "\n",
    "for j in range(1,9) :\n",
    "    print('Valid configurations in {}-line case:'.format(j),sum(list(BusTopologyHelpers.IsValidBooleanBusState(i,j) for i in range(pow(2,j)))))\n",
    "\n",
    "items_disconnected = [1,2,3]\n",
    "nEdges = 8\n",
    "print('\\nInvestigating case with {} lines, with these lines disconnected:'.format(nEdges),items_disconnected)\n",
    "print('(Partially we want to demonstrate here that buses with')\n",
    "print('{} lines and {} disconnections should have the number of options equivalent to the {}-line case)'.format(nEdges,len(items_disconnected),nEdges-len(items_disconnected)))\n",
    "n = 0\n",
    "for i in range(pow(2,nEdges)) :\n",
    "    isValid = BusTopologyHelpers.IsValidBooleanBusState(i,nEdges,items_disconnected=items_disconnected)\n",
    "    if not isValid :\n",
    "        continue\n",
    "    print('Flag {:0{}b} (0x{:02x}) is {}'.format(i,nEdges,i,'legal' if isValid else 'illegal'))\n",
    "    n += 1\n",
    "print('For {} edges, there are {} configurations that are legal,'.format(nEdges,n),'given these disconnected items:',items_disconnected)"
   ]
  },
  {
   "cell_type": "markdown",
   "metadata": {},
   "source": [
    "Let us also check to make sure that our machinery correctly excludes cases where loads and generators (\"externals\") are not connected to the grid. The case where the external is not connected to any other line is already excluded; however, there is the additional case where 2+ externals are not connected to any lines, only to each other (and this is illegal)."
   ]
  },
  {
   "cell_type": "code",
   "execution_count": null,
   "metadata": {},
   "outputs": [],
   "source": [
    "bus_topo = 0b11001\n",
    "bus_topo_str = '{:0{}b}'.format(bus_topo,5)\n",
    "\n",
    "i_gens,i_loads,i_disconnected = [1],[2],[0]\n",
    "valid = BusTopologyHelpers.IsValidBooleanBusState(bus_topo,5,i_gens=i_gens,i_loads=i_loads,items_disconnected=i_disconnected)\n",
    "valid_str = 'valid' if valid else 'NOT valid'\n",
    "print('{} is {} with externals on:'.format(bus_topo_str,valid_str),i_gens + i_loads,\n",
    "      'and disconnected lines:',i_disconnected)\n",
    "\n",
    "i_gens,i_loads,i_disconnected = [1],[3],[0]\n",
    "valid = BusTopologyHelpers.IsValidBooleanBusState(bus_topo,5,i_gens=i_gens,i_loads=i_loads,items_disconnected=i_disconnected)\n",
    "valid_str = 'valid    ' if valid else 'NOT valid'\n",
    "print('{} is {} with externals on:'.format(bus_topo_str,valid_str),i_gens + i_loads,\n",
    "      'and disconnected lines:',i_disconnected)\n",
    "\n",
    "#BusTopologyHelpers.IsValidBooleanBusState(bus_topo,5,i_gens=i_gens,i_loads=i_loads,items_disconnected=i_disconnected)"
   ]
  },
  {
   "cell_type": "markdown",
   "metadata": {},
   "source": [
    "Combining Bus Configuration and Line Disconnections\n",
    "-------\n",
    "\n",
    "Let's consider roughly how many different configurations exist for \"case 14\" with 14 buses and 20 lines, starting from very naive assumptions and then calculating explicitly the allowed configurations under certain symmetries or rules.\n",
    "\n",
    "For the naive expectation of line connections, we consider whether a line is connected or disconnected, which leads to $2^{n_\\text{lines}}$ as the naive assumption. For a bus, we consider the fact that each element (external, or line edge) can be connected to either bus 1 or bus 2, and account for $1\\leftrightarrow2$ symmetry, leading to $2^{n_\\text{ext}-1}$. The element count for case 14 is as follows: 1 bus with 2 elements; 6 buses w/3 elements; 2 buses w/4 elements; 2 buses w/5 elements.\n",
    "\n",
    "One thing we have not yet considered: in cases with one or more line disconnections, it is often the case that the number of possible bus configurations is reduced. For instance, for a bus with 6 incoming elements (and therefore normally 26 different configurations), disconnecting one line will lead to only 5 incoming elements with only 11 possible configurations. This can reduce the number of options by a factor of 2-4, though it is important to note that buses with 2 or 3 elements basically already only have 1 possible configuration.\n",
    "\n",
    "Finally, we must consider the fact that the grid may no longer be connected when you consider both the line and bus configuration. This requires constructing the adjacency matrix, considering 2 buses per substation.\n",
    "\n",
    "The number of bus configuration options can be computed by-hand for the nearly 20,000 line configurations, to see how many options are truly possible.\n",
    "\n",
    "|                   | Line connections only | Bus configurations only | Lines + buses (cumulative) |\n",
    "| ------            | -----                 | -----                   | ---- |\n",
    "| Naive expectation | $2^{20}$ = 1,048,575  | $\\prod_{i} 2^{n_i-1}$ = $4.4\\times10^{12}$ | $4.6\\times10^{18}$ |\n",
    "| Considering lines only, exclude topo-disconnected grids (1) | 19,904 (1.9%) | ($4.4\\times10^{12}$) | $8.8\\times10^{16}$ |\n",
    "| impose bus symmetry rules (2) | (19,904) | 23.6 million (0.0005%) | $4.7\\times10^{11}$ |\n",
    "| (1) + (2) + consider reduced bus options (3) | -- | -- | $1.4\\times10^{9}$ (0.31%) |\n",
    "| (1) + (2) + (3) + exclude topo-disconnected grids (lines+buses) (4) | -- | -- | $X.X\\times10^{XX}$ |\n",
    "| Valid line + bus combinations | -- | -- | $X.X\\times10^{XX}$ |"
   ]
  },
  {
   "cell_type": "code",
   "execution_count": null,
   "metadata": {},
   "outputs": [],
   "source": [
    "%aimport CommonHelpers\n",
    "%aimport BusTopologyHelpers\n",
    "%aimport Substation\n",
    "%aimport TopologyHelpers\n",
    "%autoreload"
   ]
  },
  {
   "cell_type": "markdown",
   "metadata": {},
   "source": [
    "(2) Check the number of available bus configurations, assuming all lines are connected.\n",
    "------------"
   ]
  },
  {
   "cell_type": "code",
   "execution_count": null,
   "metadata": {},
   "outputs": [],
   "source": [
    "# Check the number of available bus configurations, assuming all lines are connected.\n",
    "\n",
    "sub_classes = Substation.BuildSubstations(env)\n",
    "#sub_classes[1].currentBusConfig = 0b101000\n",
    "nValid = []\n",
    "nValid_combi = 1\n",
    "\n",
    "for sub in sub_classes :\n",
    "\n",
    "    nValid.append(0)\n",
    "    lineOnBits = 0b11111111111111111111\n",
    "\n",
    "    all_combinations = reversed(range(CommonHelpers.FullyConnectedBitset(sub.nElements)+1))\n",
    "\n",
    "    for i,sub_bitset in enumerate(all_combinations) :\n",
    "        sub.SetBusConfig(sub_bitset)\n",
    "        valid = sub.IsValidBooleanBusState(lineOnBits=lineOnBits)\n",
    "        #validStr = 'valid' if valid else 'invalid'\n",
    "        #print('Substation {:02d}: 0b{:{}b} {}'.format(sub.index,sub.currentBusConfig,sub.nElements,validStr),sub.elementIDs)\n",
    "        if valid :\n",
    "            nValid[-1] += 1\n",
    "\n",
    "    nValid_combi *= nValid[-1]\n",
    "\n",
    "print('Total number of valid combinations: {}; substation breakdown:'.format(nValid_combi),nValid)"
   ]
  },
  {
   "cell_type": "markdown",
   "metadata": {},
   "source": [
    "(3) Consider reduced substation bus options (due to line disconnections)\n",
    "--------"
   ]
  },
  {
   "cell_type": "code",
   "execution_count": null,
   "metadata": {},
   "outputs": [],
   "source": [
    "def getNumberOfLineAndBusCombinations(_line_bitsets,_sub_classes) :\n",
    "\n",
    "    nValidOverall = 0\n",
    "    \n",
    "    for i,line_bitset in enumerate(_line_bitsets):    \n",
    "\n",
    "        if not i%1000 :\n",
    "            print('Checking bitset {} of {}'.format(i,len(_line_bitsets)))\n",
    "\n",
    "        nValid_subCombi = 1\n",
    "\n",
    "        for sub in _sub_classes :\n",
    "\n",
    "            nValid_sub = 0\n",
    "            all_combinations = reversed(range(CommonHelpers.FullyConnectedBitset(sub.nElements)+1))\n",
    "\n",
    "            for sub_bitset in all_combinations :\n",
    "                sub.SetBusConfig(sub_bitset)\n",
    "                valid = sub.IsValidBooleanBusState(lineOnBits=line_bitset)\n",
    "                #validStr = 'valid' if valid else 'invalid'\n",
    "                #print('Substation {:02d}: 0b{:{}b} {}'.format(sub.index,sub.currentBusConfig,sub.nElements,validStr),sub.elementIDs)\n",
    "                if valid :\n",
    "                    nValid_sub += 1\n",
    "\n",
    "            nValid_subCombi *= nValid_sub\n",
    "\n",
    "        nValidOverall += nValid_subCombi\n",
    "    return nValidOverall\n",
    "\n",
    "#%timeit getNumberOfLineAndBusCombinations(connected_bitsets,sub_classes)\n",
    "nValid = getNumberOfLineAndBusCombinations(connected_bitsets,sub_classes)\n",
    "print('Total number of valid combinations: {}'.format(nValid))"
   ]
  },
  {
   "cell_type": "code",
   "execution_count": null,
   "metadata": {},
   "outputs": [],
   "source": [
    "%load_ext autoreload\n",
    "%aimport BusTopologyHelpers\n",
    "%aimport Substation\n",
    "%aimport TopologyHelpers\n",
    "%autoreload\n",
    "\n",
    "sub_classes = Substation.BuildSubstations(env)\n",
    "#sub_classes[1].currentBusConfig = 0b101000\n",
    "for sub in sub_classes :\n",
    "    valid = 'valid' if sub.IsValidBooleanBusState(lineOnBits=0b11111111111111111100) else 'invalid'\n",
    "    print('Substation {:02d}: 0b{:{}b} {}'.format(sub.index,sub.currentBusConfig,sub.nElements,valid),sub.elementIDs)\n",
    "\n",
    "adjacency_matrix_class = TopologyHelpers.AdjacencyMatrixClass(env)\n",
    "\n",
    "# Print Adjacency matrix:\n",
    "if False :\n",
    "    print('Adjacency matrix:')\n",
    "    for i in adjacency_matrix_class.adjacency_matrix :        \n",
    "        print(' '.join(('%d'%(a) if a>=0.5 else '·') for a in list(i)))\n"
   ]
  },
  {
   "cell_type": "code",
   "execution_count": null,
   "metadata": {},
   "outputs": [],
   "source": [
    "# if True :\n",
    "#     n = 0\n",
    "#     for i in range(32) :\n",
    "#         isValid = IsValidBooleanBusState(i,5)\n",
    "#         if not isValid :\n",
    "#             continue\n",
    "#         keptForReduced = ''\n",
    "#         if (i & 0b1) :\n",
    "#             keptForReduced = ' (Kept in case of last line disconnect)'\n",
    "#         print('Flag {:0{}b} (0x{:02x}) is {}{}'.format(i,5,i,'legal' if isValid else 'illegal',keptForReduced))\n",
    "#         n += 1\n",
    "#     print('There are {} configurations that are legal'.format(n))\n",
    "\n",
    "# if False :\n",
    "#     n = 0\n",
    "#     for i in range(64) :\n",
    "#         isValid = IsValidBooleanBusState(i,6)\n",
    "#         if not isValid :\n",
    "#             continue\n",
    "#         print('Flag {:0{}b} (0x{:02x}) is {}'.format(i,6,i,'legal' if isValid else 'illegal'))\n",
    "#         n += 1\n",
    "#     print('There are {} configurations that are legal'.format(n))"
   ]
  },
  {
   "cell_type": "markdown",
   "metadata": {},
   "source": [
    "Working with the Action Space\n",
    "---------"
   ]
  },
  {
   "cell_type": "code",
   "execution_count": null,
   "metadata": {},
   "outputs": [],
   "source": [
    "tmp = env.action_space.get_change_line_status_vect()\n",
    "tmp[0] = True\n",
    "print('Change line status vector:',tmp)\n",
    "tmp1 = env.action_space.get_set_line_status_vect()\n",
    "#tmp1[3] = 1\n",
    "print('Set line status vector:',tmp1)\n",
    "this_first_act = env.action_space({\"set_line_status\":tmp1, \"change_line_status\":tmp})\n",
    "print(this_first_act)\n",
    "this_first_act.is_ambiguous()"
   ]
  },
  {
   "cell_type": "code",
   "execution_count": null,
   "metadata": {},
   "outputs": [],
   "source": [
    "obs_after, reward, done, info = env.step(this_first_act)\n",
    "print(info)\n",
    "plot_helper = PlotMatplot(env.observation_space)\n",
    "_ = plot_helper.plot_obs(obs_after,)"
   ]
  },
  {
   "cell_type": "code",
   "execution_count": null,
   "metadata": {},
   "outputs": [],
   "source": [
    "_ = plot_helper.plot_info(line_values=[el for el in range(env.n_line)])"
   ]
  },
  {
   "cell_type": "markdown",
   "metadata": {},
   "source": [
    "Turn off all power lines:\n",
    "------"
   ]
  },
  {
   "cell_type": "code",
   "execution_count": null,
   "metadata": {},
   "outputs": [],
   "source": [
    "env.reset()\n",
    "tmp = env.action_space.get_set_line_status_vect()\n",
    "tmp[0] = -1\n",
    "print(tmp)\n",
    "act = env.action_space({\"set_line_status\":tmp})\n",
    "obs_after, reward, done, info = env.step(act)\n",
    "print(info)\n",
    "#_ = plot_helper.plot_obs(obs_after)\n",
    "\n",
    "tmp = env.action_space.get_set_line_status_vect()\n",
    "tmp[1] = -1\n",
    "print(tmp)\n",
    "act = env.action_space({\"set_line_status\":tmp})\n",
    "obs_after, reward, done, info = env.step(act)\n",
    "print(info)\n",
    "#_ = plot_helper.plot_obs(obs_after)\n",
    "\n",
    "#for i in range(len(env.action_space.get_set_line_status_vect())) :\n",
    "#    tmp = env.action_space.get_set_line_status_vect()\n",
    "#    tmp[i] = -1\n",
    "#    print(tmp)\n",
    "#    act = env.action_space({\"set_line_status\":tmp})\n",
    "#    obs_after, reward, done, info = env.step(act)\n",
    "#    print(info)\n",
    "#    if done :\n",
    "#        break    \n",
    "#\n",
    "#_ = plot_helper.plot_obs(obs_after)\n",
    "\n",
    "#_ = plot_helper.plot_info(line_values=tmp)"
   ]
  },
  {
   "cell_type": "code",
   "execution_count": null,
   "metadata": {},
   "outputs": [],
   "source": [
    "env.reset()\n",
    "tmp = env.action_space.get_set_line_status_vect()\n",
    "tmp[0] = -1\n",
    "_ = plot_helper.plot_info()"
   ]
  },
  {
   "cell_type": "code",
   "execution_count": null,
   "metadata": {},
   "outputs": [],
   "source": [
    "env.line_or_to_subid"
   ]
  },
  {
   "cell_type": "code",
   "execution_count": null,
   "metadata": {},
   "outputs": [],
   "source": [
    "dir(env)"
   ]
  },
  {
   "cell_type": "code",
   "execution_count": null,
   "metadata": {},
   "outputs": [],
   "source": [
    "env.reset()\n",
    "tmp = env.action_space.get_set_line_status_vect()\n",
    "print(tmp)\n",
    "act = env.action_space({\"set_line_status\":tmp})\n",
    "obs, reward, done, info = env.step(act)\n",
    "for i in obs.bus_connectivity_matrix() :\n",
    "    tmp = ''\n",
    "    for j in i :\n",
    "        tmp += ('%0d'%(int(j)) if int(j) else ' ')\n",
    "    print(tmp)"
   ]
  },
  {
   "cell_type": "code",
   "execution_count": null,
   "metadata": {},
   "outputs": [],
   "source": [
    "def isConnected(connectivity_matrix,sub_id_start=0) :\n",
    "    # Checks if the topology is fully connected or not.\n",
    "    # Starting point substation is where you want to start.\n",
    "    element_already_visited = [sub_id_start]"
   ]
  },
  {
   "cell_type": "markdown",
   "metadata": {},
   "source": [
    "Bus changes in Action Space\n",
    "-----------"
   ]
  },
  {
   "cell_type": "code",
   "execution_count": null,
   "metadata": {},
   "outputs": [],
   "source": [
    "env.reset()\n",
    "set_bus_load_0 = env.action_space({\"set_bus\": {\"loads_id\": [(0,2)],\"lines_or_id\": [(3,2)]}})\n",
    "\n",
    "print(set_bus_load_0)\n",
    "obs_after, reward, done, info = env.step(set_bus_load_0)\n",
    "print(info)\n",
    "_ = plot_helper.plot_obs(obs_after)"
   ]
  },
  {
   "cell_type": "code",
   "execution_count": null,
   "metadata": {},
   "outputs": [],
   "source": []
  }
 ],
 "metadata": {
  "kernelspec": {
   "display_name": "Python 3",
   "language": "python",
   "name": "python3"
  },
  "language_info": {
   "codemirror_mode": {
    "name": "ipython",
    "version": 3
   },
   "file_extension": ".py",
   "mimetype": "text/x-python",
   "name": "python",
   "nbconvert_exporter": "python",
   "pygments_lexer": "ipython3",
   "version": "3.8.2"
  }
 },
 "nbformat": 4,
 "nbformat_minor": 4
}
