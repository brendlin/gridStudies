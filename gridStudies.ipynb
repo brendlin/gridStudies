{
 "cells": [
  {
   "cell_type": "markdown",
   "metadata": {},
   "source": [
    "Smart Grids - The Basics\n",
    "-----------------\n",
    "\n",
    "**Active (real) Power**: Power transferred to the load, e.g. the component of the AC current in which the voltage and (positive) current are in phase.\n",
    "\n",
    "**Reactive Power**: The component of the power in which the voltage and current are $90^\\circ$ out of phase, e.g. caused by inductive or capacitive features in the circuit.\n",
    "\n",
    "**Complex Power**: The vector sum of the active and reactive power components, represented in the complex plane. The reactive power is represented as purely complex; the active power is real:\n",
    "\n",
    "$$ S = VI^* $$\n",
    "\n",
    "**Apparent Power**: The magnitude of the complex power, $|S|$.\n",
    "\n",
    "**Power factor**: The ratio of real (active) power and the apparent (total complex) power, ranging from $-1$ (completely reactive) to $+1$ (completely active).\n",
    "\n",
    "**Total harmonic distortion**: The ratio of the square of the higher harmonics to the fundamental harmonic, e.g.:\n",
    "\n",
    "$$\\text{THD} = \\frac{\\sum_{i=1}^N I_i^2}{I_0}$$\n",
    "\n",
    "**Inductors**: These components are governed by the following differential equation:\n",
    "\n",
    "$$\\mathcal{E} = -L\\frac{dI}{dt}$$\n",
    "\n",
    "**Capacitors**:\n",
    "\n",
    "$$ I = C\\frac{dV}{dt}$$\n",
    "\n",
    "**Overcurrent**: A situation with excess current in the circuit, often resulting in excess heat generation or equipment damage. Causes: short circuit; excessive load; design issues; arc faults; ground faults. Solutions include circuit breakers and fuses, as well as current limiters.\n",
    "\n",
    "**Single-phase electrical power**: A circuit or distribution system in which a single alternating current is present, typical of the 50-60 Hz currents in residential applications (heating and lighting). Main disadvantages:\n",
    " - a single-phase motor does not produce a rotating magnetic field; instead, it requires additional circuits to start.\n",
    "\n",
    "**Two-phase electrical power**: Consists of two wires, with current out of phase by 1/4 cycle. Advantages/disadvantages:\n",
    " - The power delivered is constant.\n",
    " - Two-phase electrical power is provided by a four-wire circuit.\n",
    " - In principle the power is constant, however two-phase power is susceptible to pulsations in power, which can cause e.g. mechanical stress in motors.\n",
    "\n",
    "**Three-phase electrical power**: Consists of three transmission wires, each carrying an alternating current with an period offset of 1/3. It has several benefits compared to two-phase electrical power:\n",
    " - The \n",
    " - A fourth neutral (return) conductor therefore carries very little or no current, and thus can have a much smaller gauge.\n",
    " - Summing all three components, the power delivered is constant.\n",
    "\n",
    "Symmetrical Components Method\n",
    "---------\n",
    "This is a technique for studying three-phase power systems, by representing (possibly asymmetric) \"phasors\" (phase vectors representing sine functions in the complex plane) as a linear combination of symmetric phasors in the complex plane. The symmetrical components are referred to as \"direct\" (positive), \"inverse\" (negative), and zero (homopolar).\n",
    "\n",
    "Consider a three-phase circuit transmitted by wires ABC, in which the peaks of the dominant amplitude arrives in that order (ABC), each with a 120$^\\circ$ phase offset, and call this the direct or positive component. Then the **negative sequence current** refers to the component whose phases are oriented in the inverse direction (CBA). Finally, a third configuration exists, one in which all three phases are aligned (**Zero sequence current**). Any *balanced* three-phase circuit can be described using a linear combination of these three components.\n",
    "\n",
    "**Sequence filters** can be used to detect negative or zero sequence current, and form the basis of relays to detect faults and e.g. trip circuit breakers."
   ]
  },
  {
   "cell_type": "markdown",
   "metadata": {},
   "source": [
    "-----------------\n",
    "Fault Detection and Clearing\n",
    "------------\n",
    "\n",
    "An **electrical fault** refers to any \"abnormal\" electrical current -- a short circuit, or a ground fault, etc. **Fault clearing** refers to the restoration of nominal electrical conditions to the circuit.\n",
    "\n",
    "**Transient faults** (bird contact; lightning strike; temporary tree contact) can be cleared simply by \"turning the circuit on and off again.\" **Persistent faults** include mechanical damage to an underground power cable.\n",
    "\n",
    "Fault detection in Transmission lines\n",
    "----------\n",
    "In (three-phase?) transmission lines, electrical faults can be classified as *asymmetric* or *symmetric*. Asymmetric faults come in flavors:\n",
    " - (L-L) Line-to-line: a short-circuit between two lines (5-10%)\n",
    " - (L-G) Line-to-ground (65-70%)\n",
    " - (double L-G) Double line-to-ground: two lines come in contact with the ground (and each other? <- necessary condition??) )(15-20%)\n",
    " - (L-L-L) or (L-L-L-G) line-to-line-to-line (-to-ground) (2-5%). The system remains balanced (what are the implications?), but severe damage is possible.\n",
    " \n"
   ]
  }
 ],
 "metadata": {
  "kernelspec": {
   "display_name": "Python 3",
   "language": "python",
   "name": "python3"
  },
  "language_info": {
   "codemirror_mode": {
    "name": "ipython",
    "version": 3
   },
   "file_extension": ".py",
   "mimetype": "text/x-python",
   "name": "python",
   "nbconvert_exporter": "python",
   "pygments_lexer": "ipython3",
   "version": "3.8.2"
  }
 },
 "nbformat": 4,
 "nbformat_minor": 4
}
