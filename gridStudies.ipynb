{
 "cells": [
  {
   "cell_type": "markdown",
   "metadata": {},
   "source": [
    "Electrical Grids - Glossary\n",
    "===============\n",
    "\n",
    "This has been moved to modernDataAnalysis."
   ]
  },
  {
   "cell_type": "markdown",
   "metadata": {},
   "source": [
    "---------------------\n",
    "Open Areas of Study in Smart Grids\n",
    "==============\n",
    "\n",
    "This has been moved to modernDataAnalysis."
   ]
  },
  {
   "cell_type": "markdown",
   "metadata": {},
   "source": [
    "Features in the Data\n",
    "===========\n",
    "\n",
    "This has been moved to modernDataAnalysis."
   ]
  },
  {
   "cell_type": "markdown",
   "metadata": {},
   "source": [
    "Machine Learning\n",
    "======================\n",
    "\n",
    "Keras/TensorFlow\n",
    "----------\n",
    "\n",
    "This has been moved to modernDataAnalysis/tensorflowPrimer.\n",
    "\n",
    "Miscellaneous\n",
    "----------\n",
    "\n",
    "This has been moved to modernDataAnalysis."
   ]
  },
  {
   "cell_type": "markdown",
   "metadata": {},
   "source": [
    "-------------\n",
    "Bibliography\n",
    "===========\n",
    "\n",
    "This has been moved to modernDataAnalysis."
   ]
  },
  {
   "cell_type": "code",
   "execution_count": null,
   "metadata": {},
   "outputs": [],
   "source": []
  }
 ],
 "metadata": {
  "kernelspec": {
   "display_name": "Python 3",
   "language": "python",
   "name": "python3"
  },
  "language_info": {
   "codemirror_mode": {
    "name": "ipython",
    "version": 3
   },
   "file_extension": ".py",
   "mimetype": "text/x-python",
   "name": "python",
   "nbconvert_exporter": "python",
   "pygments_lexer": "ipython3",
   "version": "3.8.2"
  }
 },
 "nbformat": 4,
 "nbformat_minor": 4
}
