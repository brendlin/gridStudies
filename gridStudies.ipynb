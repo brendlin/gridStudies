{
 "cells": [
  {
   "cell_type": "markdown",
   "metadata": {},
   "source": [
    "Smart Grids - The Basics\n",
    "-----------------\n",
    "\n",
    "**Feeder Current**:\n",
    "\n",
    "**Active Power**:\n",
    "\n",
    "**Reactive Power**:\n",
    "\n",
    "**Overcurrent**: A situation with excess current in the circuit, often resulting in excess heat generation or equipment damage. Causes: short circuit; excessive load; design issues; arc faults; ground faults. Solutions include circuit breakers and fuses, as well as current limiters.\n",
    "\n"
   ]
  },
  {
   "cell_type": "markdown",
   "metadata": {},
   "source": [
    "Fault Detection and Clearing\n",
    "------------\n",
    "\n",
    "An **electrical fault** refers to any \"abnormal\" electrical current -- a short circuit, or a ground fault, etc. **Fault clearing** refers to the restoration of nominal electrical conditions to the circuit.\n",
    "\n",
    "**Transient faults** (bird contact; lightning strike; temporary tree contact) can be cleared simply by \"turning the circuit on and off again.\" **Persistent faults** include mechanical damage to an underground power cable.\n",
    "\n",
    "Fault detection in Transmission lines\n",
    "----------\n",
    "In (three-phase?) transmission lines, electrical faults can be classified as *asymmetric* or *symmetric*. Asymmetric faults come in flavors:\n",
    " - (L-L) Line-to-line: a short-circuit between two lines (5-10%)\n",
    " - (L-G) Line-to-ground (65-70%)\n",
    " - (double L-G) Double line-to-ground: two lines come in contact with the ground (and each other? <- necessary condition??) )(15-20%)\n",
    " - (L-L-L) or (L-L-L-G) line-to-line-to-line (-to-ground) (2-5%). The system remains balanced (what are the implications?), but severe damage is possible.\n",
    " \n"
   ]
  }
 ],
 "metadata": {
  "kernelspec": {
   "display_name": "Python 3",
   "language": "python",
   "name": "python3"
  },
  "language_info": {
   "codemirror_mode": {
    "name": "ipython",
    "version": 3
   },
   "file_extension": ".py",
   "mimetype": "text/x-python",
   "name": "python",
   "nbconvert_exporter": "python",
   "pygments_lexer": "ipython3",
   "version": "3.8.2"
  }
 },
 "nbformat": 4,
 "nbformat_minor": 4
}
