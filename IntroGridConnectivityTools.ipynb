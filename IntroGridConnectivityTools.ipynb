{
 "cells": [
  {
   "cell_type": "markdown",
   "metadata": {},
   "source": [
    "Tools for Analyzing Grid Connectivity\n",
    "======\n",
    "\n",
    "Towards the development of tools for improving grid stability using grid topology changes\n",
    "-------\n",
    "\n",
    "In this notebook, we will preview some of the tools that I developed to study grid topologies, with an eye on trying to develop tools that can be used to make educated changes to the grid topology in certain circumstances (e.g. to cure line overloads).\n",
    "\n",
    "The tools are developed using the `rte_case14_realistic` environment, and using the `grid2op` framework as a jumping-off point. However, this is initially only used to load the case14 scenario (and for the plotting capabilities); in principle these tools are not strictly dependent on the `grid2op` environment.\n",
    "\n",
    "The code also includes a small histogramming class that I developed to store histogram-like data (without the need to keep around large lists of the data itsef.)"
   ]
  },
  {
   "cell_type": "code",
   "execution_count": null,
   "metadata": {},
   "outputs": [],
   "source": [
    "%load_ext autoreload\n",
    "import os\n",
    "import sys\n",
    "import grid2op\n",
    "import matplotlib.pyplot as plt\n",
    "import numpy as np\n",
    "import itertools\n",
    "import copy\n",
    "\n",
    "# These helper modules are mine:\n",
    "%aimport CommonHelpers\n",
    "%aimport BusTopologyHelpers\n",
    "%aimport Substation\n",
    "%aimport TopologyHelpers\n",
    "%autoreload\n",
    "\n",
    "# This is a small histogramming class -- see https://github.com/brendlin/matplotlibHistos\n",
    "sys.path.insert(0, \"../\")\n",
    "from matplotlibHistos.Histo import Histo"
   ]
  },
  {
   "cell_type": "code",
   "execution_count": null,
   "metadata": {},
   "outputs": [],
   "source": [
    "env = grid2op.make(test=True)"
   ]
  },
  {
   "cell_type": "code",
   "execution_count": null,
   "metadata": {},
   "outputs": [],
   "source": [
    "from grid2op.PlotGrid import PlotMatplot\n",
    "plot_helper = PlotMatplot(env.observation_space)\n",
    "_ = plot_helper.plot_info(line_values=['line %d'%(el) for el in range(env.n_line)])"
   ]
  },
  {
   "cell_type": "markdown",
   "metadata": {},
   "source": [
    "How is the grid topology represented in `grid2op`?\n",
    "------\n",
    "Let's explore the `grid2op` environment enough to understand how it encodes the grid connectivity. A few summary values describe the basics of the grid:"
   ]
  },
  {
   "cell_type": "code",
   "execution_count": null,
   "metadata": {},
   "outputs": [],
   "source": [
    "print('dim topo: env.dim_topo (2*n_line + n_load + n_gen): {:d} ({:d})'.format(env.dim_topo,env.n_line*2 + env.n_load + env.n_gen))\n",
    "print('Number of lines, env.n_line:',env.n_line)\n",
    "print('Number of loads, env.n_load:',env.n_load)\n",
    "print('Number of loads, env.n_gen:',env.n_gen)\n",
    "print('Number of connections to each sub env.sub_info: ',env.sub_info)"
   ]
  },
  {
   "cell_type": "markdown",
   "metadata": {},
   "source": [
    "Additional properties detail how elements are connected to one another:"
   ]
  },
  {
   "cell_type": "code",
   "execution_count": null,
   "metadata": {},
   "outputs": [],
   "source": [
    "print('Line origin    to subid env.line_or_to_subid:',env.line_or_to_subid)\n",
    "print('Line extremity to subid env.line_ex_to_subid:',env.line_ex_to_subid)\n",
    "print('Generator      to subid env.gen_to_subid    :',env.gen_to_subid)\n",
    "print('Load           to subid env.load_to_subid   :',env.load_to_subid)\n",
    "print()\n",
    "print('Load-to-sub           position env.load_to_sub_pos   : ',env.load_to_sub_pos)\n",
    "print('Generator-to-sub      position env.gen_to_sub_pos    : ',env.gen_to_sub_pos)\n",
    "print('Line origin-to-sub    position env.line_or_to_sub_pos: ',env.line_or_to_sub_pos)\n",
    "print('Line extremity-to-sub position env.line_ex_to_sub_pos: ',env.line_ex_to_sub_pos)"
   ]
  },
  {
   "cell_type": "markdown",
   "metadata": {},
   "source": [
    "Other properties include the `topo vect` and the `grid object types`, which will tell you the ID of the object connected to a substation. They are shown here for completeness, but so far I have not used them."
   ]
  },
  {
   "cell_type": "code",
   "execution_count": null,
   "metadata": {},
   "outputs": [],
   "source": [
    "print('Topo vec (len {:d}): '.format(len(env.backend.get_topo_vect())),list(a for a in env.backend.get_topo_vect()))\n",
    "print()\n",
    "print('env.grid_objects_types:\\n',env.grid_objects_types[:10],'...')\n",
    "print('This will tell you the ID of the object connected to which bus.')\n",
    "print('The order is [sub_id,load_id,gen_id,origin_id,extremity_id].')"
   ]
  },
  {
   "cell_type": "markdown",
   "metadata": {},
   "source": [
    "Adjacency Matrix Representation of the Grid\n",
    "--------\n",
    "Now we try to represent the grid as a **graph**, using the buses and generators/loads as vertices. One vertex corresponds to one substation bus (either bus 1 or bus 2), one load or one generator. If a line connects e.g. a substation bus $i$ to generator $j$, then the entry $a_{ij}$ (and $a_{ji}$) is filled with a 1."
   ]
  },
  {
   "cell_type": "code",
   "execution_count": null,
   "metadata": {},
   "outputs": [],
   "source": [
    "adjacency_matrix = TopologyHelpers.MakeAdjacencyMatrix(env,n_buses=1,skipExternals=False)\n",
    "\n",
    "print('Adjacency matrix (columns are labeled as substation, generator or load):')\n",
    "print(' '.join('S' for a in env.sub_info),' '.join('g' for a in range(env.n_gen)),' '.join('L' for a in range(env.n_load)))\n",
    "print('--'*(len(env.sub_info) + env.n_gen + env.n_load - 1))\n",
    "for i in adjacency_matrix :        \n",
    "    print(' '.join(('%d'%(a) if a>0 else '·') for a in list(i)))"
   ]
  },
  {
   "cell_type": "markdown",
   "metadata": {},
   "source": [
    "A related representation is the **Laplacian matrix**, in which the diagonal element is set to the negative sum of elements in a row or column:"
   ]
  },
  {
   "cell_type": "code",
   "execution_count": null,
   "metadata": {},
   "outputs": [],
   "source": [
    "laplacian_matrix = TopologyHelpers.MakeLaplacian(env,n_buses=1,skipExternals=True)\n",
    "print('\\nLaplacian matrix:')\n",
    "for i in laplacian_matrix :\n",
    "    tmp = ''\n",
    "    for j in i :\n",
    "        tmp += '{:>3}'.format(-j)\n",
    "    print(tmp)"
   ]
  },
  {
   "cell_type": "markdown",
   "metadata": {},
   "source": [
    "For clarity, we can print the line IDs of the non-zero elements of this matrix to understand their role in this representation:"
   ]
  },
  {
   "cell_type": "code",
   "execution_count": null,
   "metadata": {},
   "outputs": [],
   "source": [
    "TopologyHelpers.PrintLineIDs(env)"
   ]
  }
 ],
 "metadata": {
  "kernelspec": {
   "display_name": "Python 3",
   "language": "python",
   "name": "python3"
  },
  "language_info": {
   "codemirror_mode": {
    "name": "ipython",
    "version": 3
   },
   "file_extension": ".py",
   "mimetype": "text/x-python",
   "name": "python",
   "nbconvert_exporter": "python",
   "pygments_lexer": "ipython3",
   "version": "3.8.2"
  }
 },
 "nbformat": 4,
 "nbformat_minor": 4
}
