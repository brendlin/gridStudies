{
 "cells": [
  {
   "cell_type": "markdown",
   "metadata": {},
   "source": [
    "Working with the Action Space\n",
    "==========\n",
    "\n",
    "Something something."
   ]
  },
  {
   "cell_type": "code",
   "execution_count": null,
   "metadata": {},
   "outputs": [],
   "source": [
    "%load_ext autoreload\n",
    "import os\n",
    "import sys\n",
    "import grid2op\n",
    "import matplotlib.pyplot as plt\n",
    "import numpy as np\n",
    "import itertools\n",
    "import copy\n",
    "\n",
    "# These helper modules are mine:\n",
    "%aimport CommonHelpers\n",
    "%aimport BusTopologyHelpers\n",
    "%aimport Substation\n",
    "%aimport TopologyHelpers\n",
    "%autoreload\n",
    "\n",
    "# This is a small histogramming class -- see https://github.com/brendlin/matplotlibHistos\n",
    "sys.path.insert(0, \"../\")\n",
    "from matplotlibHistos.Histo import Histo"
   ]
  },
  {
   "cell_type": "code",
   "execution_count": null,
   "metadata": {},
   "outputs": [],
   "source": [
    "env = grid2op.make(test=True)\n",
    "\n",
    "from grid2op.PlotGrid import PlotMatplot\n",
    "plot_helper = PlotMatplot(env.observation_space)\n",
    "_ = plot_helper.plot_info(line_values=['line %d'%(el) for el in range(env.n_line)])"
   ]
  },
  {
   "cell_type": "code",
   "execution_count": null,
   "metadata": {},
   "outputs": [],
   "source": [
    "tmp = env.action_space.get_change_line_status_vect()\n",
    "tmp[0] = True\n",
    "print('Change line status vector:',tmp)\n",
    "tmp1 = env.action_space.get_set_line_status_vect()\n",
    "#tmp1[3] = 1\n",
    "print('Set line status vector:',tmp1)\n",
    "this_first_act = env.action_space({\"set_line_status\":tmp1, \"change_line_status\":tmp})\n",
    "print(this_first_act)\n",
    "this_first_act.is_ambiguous()"
   ]
  },
  {
   "cell_type": "code",
   "execution_count": null,
   "metadata": {},
   "outputs": [],
   "source": [
    "obs_after, reward, done, info = env.step(this_first_act)\n",
    "print(info)\n",
    "plot_helper = PlotMatplot(env.observation_space)\n",
    "_ = plot_helper.plot_obs(obs_after,)"
   ]
  },
  {
   "cell_type": "code",
   "execution_count": null,
   "metadata": {},
   "outputs": [],
   "source": [
    "env.reset()\n",
    "tmp = env.action_space.get_set_line_status_vect()\n",
    "tmp[0] = -1\n",
    "print(tmp)\n",
    "act = env.action_space({\"set_line_status\":tmp})\n",
    "obs_after, reward, done, info = env.step(act)\n",
    "print(info)\n",
    "#_ = plot_helper.plot_obs(obs_after)\n",
    "\n",
    "tmp = env.action_space.get_set_line_status_vect()\n",
    "tmp[1] = -1\n",
    "print(tmp)\n",
    "act = env.action_space({\"set_line_status\":tmp})\n",
    "obs_after, reward, done, info = env.step(act)\n",
    "print(info)\n",
    "#_ = plot_helper.plot_obs(obs_after)\n",
    "\n",
    "#for i in range(len(env.action_space.get_set_line_status_vect())) :\n",
    "#    tmp = env.action_space.get_set_line_status_vect()\n",
    "#    tmp[i] = -1\n",
    "#    print(tmp)\n",
    "#    act = env.action_space({\"set_line_status\":tmp})\n",
    "#    obs_after, reward, done, info = env.step(act)\n",
    "#    print(info)\n",
    "#    if done :\n",
    "#        break    \n",
    "#\n",
    "#_ = plot_helper.plot_obs(obs_after)\n",
    "\n",
    "#_ = plot_helper.plot_info(line_values=tmp)"
   ]
  },
  {
   "cell_type": "code",
   "execution_count": null,
   "metadata": {},
   "outputs": [],
   "source": [
    "env.reset()\n",
    "tmp = env.action_space.get_set_line_status_vect()\n",
    "print(tmp)\n",
    "act = env.action_space({\"set_line_status\":tmp})\n",
    "obs, reward, done, info = env.step(act)\n",
    "for i in obs.bus_connectivity_matrix() :\n",
    "    tmp = ''\n",
    "    for j in i :\n",
    "        tmp += ('%0d'%(int(j)) if int(j) else ' ')\n",
    "    print(tmp)"
   ]
  },
  {
   "cell_type": "markdown",
   "metadata": {},
   "source": [
    "Bus changes in Action Space\n",
    "-----------"
   ]
  },
  {
   "cell_type": "code",
   "execution_count": null,
   "metadata": {},
   "outputs": [],
   "source": [
    "env.reset()\n",
    "set_bus_load_0 = env.action_space({\"set_bus\": {\"loads_id\": [(0,2)],\"lines_or_id\": [(3,2)]}})\n",
    "\n",
    "print(set_bus_load_0)\n",
    "obs_after, reward, done, info = env.step(set_bus_load_0)\n",
    "print(info)\n",
    "_ = plot_helper.plot_obs(obs_after)"
   ]
  }
 ],
 "metadata": {
  "kernelspec": {
   "display_name": "Python 3",
   "language": "python",
   "name": "python3"
  },
  "language_info": {
   "codemirror_mode": {
    "name": "ipython",
    "version": 3
   },
   "file_extension": ".py",
   "mimetype": "text/x-python",
   "name": "python",
   "nbconvert_exporter": "python",
   "pygments_lexer": "ipython3",
   "version": "3.8.2"
  }
 },
 "nbformat": 4,
 "nbformat_minor": 4
}
